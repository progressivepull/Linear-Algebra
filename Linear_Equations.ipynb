{
  "metadata": {
    "kernelspec": {
      "name": "python",
      "display_name": "Python (Pyodide)",
      "language": "python"
    },
    "language_info": {
      "codemirror_mode": {
        "name": "python",
        "version": 3
      },
      "file_extension": ".py",
      "mimetype": "text/x-python",
      "name": "python",
      "nbconvert_exporter": "python",
      "pygments_lexer": "ipython3",
      "version": "3.8"
    }
  },
  "nbformat_minor": 5,
  "nbformat": 4,
  "cells": [
    {
      "id": "2ea65102-0b9d-45da-ab4b-dc68a133ea13",
      "cell_type": "markdown",
      "source": "# Linear Algebra Tutorial Using Python: Linear Equations\n\nThis tutorial covers **linear equations**, how to represent them in matrix form, and how to solve them using Python and NumPy.\n\n---",
      "metadata": {}
    },
    {
      "id": "ca000b6b-89cc-42b5-a2ab-8b33066f6084",
      "cell_type": "markdown",
      "source": "## 1. **What is a Linear Equation?**\n\nA linear equation in variables $ x_1, x_2, ..., x_n $ has the form:\n\n$$\na_1x_1 + a_2x_2 + \\dots + a_nx_n = b\n$$\n\nwhere $ a_1, a_2, ..., a_n $ are constants.\n\n### **Example:**\n\n$$\n2x + 3y = 8 \\\\\n-1x + 4y = 3\n$$",
      "metadata": {}
    },
    {
      "id": "ba323961-7816-4553-8c1f-86b3ee4d9d46",
      "cell_type": "markdown",
      "source": "\n---\n\n## 2. **Matrix Representation of Linear Systems**\n\nA system of linear equations can be written in matrix form as:\n\n$$\nA\\mathbf{x} = \\mathbf{b}\n$$\n\nwhere\n\n- $ A $: coefficient matrix\n- $ \\mathbf{x} $: variables (as a column vector)\n- $ \\mathbf{b} $: constants (as a column vector)\n\n**Example:**\n\n$$\n\\begin{bmatrix}\n2 & 3 \\\\\n-1 & 4\n\\end{bmatrix}\n\\begin{bmatrix}\nx \\\\\ny\n\\end{bmatrix}\n=\n\\begin{bmatrix}\n8 \\\\\n3\n\\end{bmatrix}\n$$\n\n---",
      "metadata": {}
    },
    {
      "id": "9a0d6378-6760-4cbe-b893-db5eaaa292a4",
      "cell_type": "markdown",
      "source": "## 3. **Solving Linear Systems in Python**\n\nUse the NumPy library’s `np.linalg.solve()` function for $ A\\mathbf{x} = \\mathbf{b} $.",
      "metadata": {}
    },
    {
      "id": "be6460e7-544c-411a-b16b-8d9af2a17aa2",
      "cell_type": "code",
      "source": "import numpy as np\n\nA = np.array([[2, 3], [-1, 4]])\nb = np.array([8, 3])\n\n# Solve Ax = b\nx = np.linalg.solve(A, b)\nprint(\"Solution: x =\", x[0], \", y =\", x[1])",
      "metadata": {
        "trusted": true
      },
      "outputs": [
        {
          "name": "stdout",
          "output_type": "stream",
          "text": "Solution: x = 2.090909090909091 , y = 1.2727272727272727\n"
        }
      ],
      "execution_count": 1
    },
    {
      "id": "004c572a-ba0d-46cd-af7c-9718c3435d52",
      "cell_type": "markdown",
      "source": "## 4. **Checking Solutions**\n\nYou can check your solution by plugging it back into the equations:",
      "metadata": {}
    },
    {
      "id": "4ae8c465-45b5-48d7-9abf-3ffe16a25e13",
      "cell_type": "code",
      "source": "print(\"Check 1:\", 2*x[0] + 3*x[1])\nprint(\"Check 2:\", -1*x[0] + 4*x[1])",
      "metadata": {
        "trusted": true
      },
      "outputs": [
        {
          "name": "stdout",
          "output_type": "stream",
          "text": "Check 1: 8.0\nCheck 2: 3.0\n"
        }
      ],
      "execution_count": 2
    },
    {
      "id": "c690039e-ce8d-436e-888c-9435cc02a27f",
      "cell_type": "markdown",
      "source": "## 5. **Solving Larger Systems**\n\nYou can solve larger systems in exactly the same way:",
      "metadata": {}
    },
    {
      "id": "29a4997b-9c45-4349-924d-319e1e50c2ab",
      "cell_type": "code",
      "source": "A = np.array([[1, 2, -1],\n              [3, 1, 2],\n              [2, -1, 1]])\nb = np.array([2, 9, 3])\n\nx = np.linalg.solve(A, b)\nprint(\"Solution:\", x)",
      "metadata": {
        "trusted": true
      },
      "outputs": [
        {
          "name": "stdout",
          "output_type": "stream",
          "text": "Solution: [1.2 1.4 2. ]\n"
        }
      ],
      "execution_count": 3
    },
    {
      "id": "6e1388db-5ac4-4bc3-bfa9-d0a84fe846d5",
      "cell_type": "markdown",
      "source": "## 6. **Singular or Inconsistent Systems**\n\nIf the system has **no solution** or **infinitely many solutions**, `np.linalg.solve` will raise an error.  \nTo check if a matrix is singular:",
      "metadata": {}
    },
    {
      "id": "bf4e8d35-0d99-4bbe-a3e8-a1cfb9a96ec6",
      "cell_type": "code",
      "source": "det = np.linalg.det(A)\nprint(\"Determinant:\", det)",
      "metadata": {
        "trusted": true
      },
      "outputs": [
        {
          "name": "stdout",
          "output_type": "stream",
          "text": "Determinant: 9.999999999999998\n"
        }
      ],
      "execution_count": 4
    },
    {
      "id": "cd33b91e-05f6-420a-af60-f9d37bc6e845",
      "cell_type": "markdown",
      "source": "- If `det == 0`, the matrix is singular (no unique solution).",
      "metadata": {}
    },
    {
      "id": "a0a3e45c-e308-4b17-9ba3-d54dca5cf68d",
      "cell_type": "markdown",
      "source": "## 7. **Summary Table**\n\n| Task                       | Python Function         |\n|----------------------------|------------------------|\n| Solve $A\\mathbf{x} = \\mathbf{b}$ | `np.linalg.solve(A, b)` |\n| Determinant                | `np.linalg.det(A)`     |\n\n---",
      "metadata": {}
    },
    {
      "id": "328cb60a-7c52-4ba2-9182-5ca524f89afa",
      "cell_type": "markdown",
      "source": "\n## 8. **Practice Problems**\n\n1. Solve the system:  \n   $$\n   x + y + z = 6 \n   $$\n   $$\n   2x - y + 3z = 14 \n   $$\n   $$\n   -x + 4y - z = -2\n   $$\n3. Check if the following system is singular:  \n   $$\n   x + 2y = 3 \n   $$\n   $$\n   2x + 4y = 6\n   $$\n\nTry these using the code above!\n\n---\n\n**References:**\n- [NumPy Linear Algebra](https://numpy.org/doc/stable/reference/generated/numpy.linalg.solve.html)\n- [Linear equation (Wikipedia)](https://en.wikipedia.org/wiki/Linear_equation)\n\n---",
      "metadata": {}
    },
    {
      "id": "fbf4807f-dea9-4aa7-93d3-d604feb8a7ac",
      "cell_type": "markdown",
      "source": "# [Linear Algebra Context](./README.md)",
      "metadata": {}
    }
  ]
}