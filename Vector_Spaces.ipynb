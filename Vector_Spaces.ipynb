{
  "metadata": {
    "kernelspec": {
      "name": "python",
      "display_name": "Python (Pyodide)",
      "language": "python"
    },
    "language_info": {
      "codemirror_mode": {
        "name": "python",
        "version": 3
      },
      "file_extension": ".py",
      "mimetype": "text/x-python",
      "name": "python",
      "nbconvert_exporter": "python",
      "pygments_lexer": "ipython3",
      "version": "3.8"
    }
  },
  "nbformat_minor": 5,
  "nbformat": 4,
  "cells": [
    {
      "id": "0c7e32ce-ab47-4238-93f1-304fba581882",
      "cell_type": "markdown",
      "source": "# Linear Algebra Tutorial Using Python: Vector Spaces\n\nThis tutorial introduces **vector spaces**—sets of vectors where vector addition and scalar multiplication are defined and follow specific rules. We'll use Python (with NumPy) to illustrate these concepts.\n\n---",
      "metadata": {}
    },
    {
      "id": "1c3982b9-b589-4fea-851e-2a421285965f",
      "cell_type": "markdown",
      "source": "## 1. **What is a Vector Space?**\n\nA **vector space** (or linear space) over the real numbers $\\mathbb{R}$ is a set $V$ together with two operations:\n\n- **Vector Addition**: $\\mathbf{u} + \\mathbf{v}$\n- **Scalar Multiplication**: $a\\mathbf{v}$ for $a \\in \\mathbb{R}$\n\nsuch that the following properties hold for all vectors $\\mathbf{u}, \\mathbf{v}, \\mathbf{w} \\in V$ and scalars $a, b \\in \\mathbb{R}$:\n\n**Axioms:**\n1. **Associativity of addition**: $(\\mathbf{u} + \\mathbf{v}) + \\mathbf{w} = \\mathbf{u} + (\\mathbf{v} + \\mathbf{w})$\n2. **Commutativity of addition**: $\\mathbf{u} + \\mathbf{v} = \\mathbf{v} + \\mathbf{u}$\n3. **Additive identity**: There exists a vector $\\mathbf{0}$ such that $\\mathbf{v} + \\mathbf{0} = \\mathbf{v}$\n4. **Additive inverse**: For every $\\mathbf{v}$, there exists $-\\mathbf{v}$ such that $\\mathbf{v} + (-\\mathbf{v}) = \\mathbf{0}$\n5. **Compatibility of scalar multiplication**: $a(b\\mathbf{v}) = (ab)\\mathbf{v}$\n6. **Identity element of scalar multiplication**: $1\\mathbf{v} = \\mathbf{v}$\n7. **Distributivity of scalar sums**: $(a + b)\\mathbf{v} = a\\mathbf{v} + b\\mathbf{v}$\n8. **Distributivity of vector sums**: $a(\\mathbf{u} + \\mathbf{v}) = a\\mathbf{u} + a\\mathbf{v}$\n\n---",
      "metadata": {}
    },
    {
      "id": "cc9cf13f-fc32-463c-8256-0d479cd0f1eb",
      "cell_type": "markdown",
      "source": "## 2. **Vector Addition and Scalar Multiplication in Python**\n\nWe use NumPy arrays to represent vectors.",
      "metadata": {}
    },
    {
      "id": "8a9cffef-929b-4511-9fa5-fcbd78789a30",
      "cell_type": "code",
      "source": "import numpy as np\n\nu = np.array([1, 2, 3])\nv = np.array([-1, 0, 4])\na = 3\n\n# Vector addition\nw = u + v\nprint(\"u + v =\", w)\n\n# Scalar multiplication\ns = a * u\nprint(\"3 * u =\", s)",
      "metadata": {
        "trusted": true
      },
      "outputs": [
        {
          "name": "stdout",
          "output_type": "stream",
          "text": "u + v = [0 2 7]\n3 * u = [3 6 9]\n"
        }
      ],
      "execution_count": 1
    },
    {
      "id": "abed7419-cc7e-4435-98d7-a2e6b9617e7f",
      "cell_type": "markdown",
      "source": "## 3. **Examples of Vector Spaces**\n\n- **$\\mathbb{R}^n$:** All n-dimensional real vectors (e.g., `[1, 2, 3]` in $\\mathbb{R}^3$)\n- **Zero vector space:** Only the zero vector `[0, 0, ..., 0]`\n- **Space of polynomials:** All polynomials of degree ≤ n\n- **Set of $m \\times n$ matrices:** All real matrices of size $m \\times n$\n\n---\n\n### **Example: $\\mathbb{R}^2$ as a Vector Space**",
      "metadata": {}
    },
    {
      "id": "c27af0f6-5f93-43de-9fe6-0b45fee65a96",
      "cell_type": "code",
      "source": "# Two vectors in R^2\nu = np.array([2, 5])\nv = np.array([-1, 3])\n\n# Add them\nsum_vector = u + v\nprint(\"u + v =\", sum_vector)\n\n# Scalar multiple\nalpha = 0.5\nscaled = alpha * v\nprint(\"0.5 * v =\", scaled)",
      "metadata": {
        "trusted": true
      },
      "outputs": [
        {
          "name": "stdout",
          "output_type": "stream",
          "text": "u + v = [1 8]\n0.5 * v = [-0.5  1.5]\n"
        }
      ],
      "execution_count": 2
    },
    {
      "id": "0351c326-bd60-491c-92ed-575e9c7f79a4",
      "cell_type": "markdown",
      "source": "## 4. **Checking Vector Space Properties in Python**\n\nLet's verify some axioms for vectors in $\\mathbb{R}^3$:",
      "metadata": {}
    },
    {
      "id": "b88ebda6-93b6-467a-a0bd-371bae9047f6",
      "cell_type": "code",
      "source": "u = np.array([1, 2, 3])\nv = np.array([4, -1, 0])\nw = np.array([2, 2, 2])\na, b = 2, -1",
      "metadata": {
        "trusted": true
      },
      "outputs": [],
      "execution_count": 3
    },
    {
      "id": "c79d0c50-d549-43a6-b06b-a87f66fe46cf",
      "cell_type": "markdown",
      "source": "### 1. Commutativity of addition: u + v == v + u",
      "metadata": {}
    },
    {
      "id": "8c13d82e-8379-40e9-8fb4-820e02bfa8c6",
      "cell_type": "code",
      "source": "print(\"u + v == v + u:\", np.allclose(u + v, v + u))",
      "metadata": {
        "trusted": true
      },
      "outputs": [
        {
          "name": "stdout",
          "output_type": "stream",
          "text": "u + v == v + u: True\n"
        }
      ],
      "execution_count": 4
    },
    {
      "id": "21851333-f53a-4400-ab30-a217e6dc459c",
      "cell_type": "markdown",
      "source": "### 2. Associativity of addition: (u + v) + w == u + (v + w)",
      "metadata": {}
    },
    {
      "id": "90a00272-af6d-4f31-af94-73cb64ffccfb",
      "cell_type": "code",
      "source": "print(\"(u + v) + w == u + (v + w):\", np.allclose((u + v) + w, u + (v + w)))",
      "metadata": {
        "trusted": true
      },
      "outputs": [
        {
          "name": "stdout",
          "output_type": "stream",
          "text": "(u + v) + w == u + (v + w): True\n"
        }
      ],
      "execution_count": 5
    },
    {
      "id": "33293723-f477-4059-99f9-e52a09900a6e",
      "cell_type": "markdown",
      "source": "### 3. Existence of zero vector: u + 0 == u",
      "metadata": {}
    },
    {
      "id": "6ccfcd1b-e617-4ad0-950f-bef2c77c6c47",
      "cell_type": "code",
      "source": "zero = np.zeros(3)\nprint(\"u + 0 == u:\", np.allclose(u + zero, u))",
      "metadata": {
        "trusted": true
      },
      "outputs": [
        {
          "name": "stdout",
          "output_type": "stream",
          "text": "u + 0 == u: True\n"
        }
      ],
      "execution_count": 6
    },
    {
      "id": "afbb6f82-7dfc-4119-836f-3b8f259b93e0",
      "cell_type": "markdown",
      "source": "### 4. Existence of additive inverse: u + (-u) == 0",
      "metadata": {}
    },
    {
      "id": "abd18e72-f9aa-4151-9667-bf9c036c560c",
      "cell_type": "code",
      "source": "print(\"u + (-u) == 0:\", np.allclose(u + (-u), zero))",
      "metadata": {
        "trusted": true
      },
      "outputs": [
        {
          "name": "stdout",
          "output_type": "stream",
          "text": "u + (-u) == 0: True\n"
        }
      ],
      "execution_count": 7
    },
    {
      "id": "51695116-4676-4f21-a1f0-69a546defa68",
      "cell_type": "markdown",
      "source": "### 5. Distributivity of scalar multiplication over vector addition: a*(u + v) == a*u + a*v",
      "metadata": {}
    },
    {
      "id": "3aab5183-0f06-49d9-af19-049edf15091b",
      "cell_type": "code",
      "source": "print(\"a*(u + v) == a*u + a*v:\", np.allclose(a * (u + v), a*u + a*v))",
      "metadata": {
        "trusted": true
      },
      "outputs": [
        {
          "name": "stdout",
          "output_type": "stream",
          "text": "a*(u + v) == a*u + a*v: True\n"
        }
      ],
      "execution_count": 8
    },
    {
      "id": "eafd3bbf-2613-4f6a-ba83-fff1f43d8416",
      "cell_type": "markdown",
      "source": "### 6. Distributivity of scalar multiplication over field addition: (a + b)*u == a*u + b*u",
      "metadata": {}
    },
    {
      "id": "82acbb5f-5ade-4f67-8e06-ab1caa59418c",
      "cell_type": "code",
      "source": "print(\"(a + b)*u == a*u + b*u:\", np.allclose((a + b)*u, a*u + b*u))",
      "metadata": {
        "trusted": true
      },
      "outputs": [
        {
          "name": "stdout",
          "output_type": "stream",
          "text": "(a + b)*u == a*u + b*u: True\n"
        }
      ],
      "execution_count": 9
    },
    {
      "id": "7cee2bc4-6a5a-4383-916e-e6928aefc6b0",
      "cell_type": "markdown",
      "source": "### 7. Compatibility of scalar multiplication: a*(b*u) == (a*b)*u",
      "metadata": {}
    },
    {
      "id": "e86e2f78-70af-4cd6-836a-6d27717be3cc",
      "cell_type": "code",
      "source": "print(\"a*(b*u) == (a*b)*u:\", np.allclose(a*(b*u), (a*b)*u))",
      "metadata": {
        "trusted": true
      },
      "outputs": [
        {
          "name": "stdout",
          "output_type": "stream",
          "text": "a*(b*u) == (a*b)*u: True\n"
        }
      ],
      "execution_count": 10
    },
    {
      "id": "be253a3f-06f7-4cf0-9a87-fbc4c5d74b3f",
      "cell_type": "markdown",
      "source": "### 8. Identity element of scalar multiplication: 1*u == u",
      "metadata": {}
    },
    {
      "id": "5e36e3d9-f3b2-4181-8974-ddd5adc67365",
      "cell_type": "code",
      "source": "print(\"1*u == u:\", np.allclose(1*u, u))",
      "metadata": {
        "trusted": true
      },
      "outputs": [
        {
          "name": "stdout",
          "output_type": "stream",
          "text": "1*u == u: True\n"
        }
      ],
      "execution_count": 11
    },
    {
      "id": "a1a915ce-dac0-43ec-8bf1-be9e2f3e5202",
      "cell_type": "markdown",
      "source": "Each check should return `True` if the corresponding vector space property holds for vectors in $\\mathbb{R}^3$.",
      "metadata": {}
    },
    {
      "id": "63684b15-73e3-40b4-a8fd-f626172edade",
      "cell_type": "markdown",
      "source": "# [Linear Algebra Context](./README.md)",
      "metadata": {}
    }
  ]
}