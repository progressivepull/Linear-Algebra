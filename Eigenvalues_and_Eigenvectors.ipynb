{
  "metadata": {
    "kernelspec": {
      "name": "python",
      "display_name": "Python (Pyodide)",
      "language": "python"
    },
    "language_info": {
      "codemirror_mode": {
        "name": "python",
        "version": 3
      },
      "file_extension": ".py",
      "mimetype": "text/x-python",
      "name": "python",
      "nbconvert_exporter": "python",
      "pygments_lexer": "ipython3",
      "version": "3.8"
    }
  },
  "nbformat_minor": 5,
  "nbformat": 4,
  "cells": [
    {
      "id": "5877ef9f-f404-4c30-8627-a4f2e570e6ed",
      "cell_type": "markdown",
      "source": "# Linear Algebra Tutorial Using Python: Eigenvalues and Eigenvectors\n\nThis tutorial covers **eigenvalues** and **eigenvectors**—fundamental concepts in linear algebra. We’ll see what they are, why they matter, and how to compute them using Python and NumPy.\n\n---",
      "metadata": {}
    },
    {
      "id": "3ac1e9c5-e532-4ff9-9645-cf50c22b9158",
      "cell_type": "markdown",
      "source": "## 1. **What are Eigenvalues and Eigenvectors?**\n\nFor a square matrix $A$, an **eigenvector** $\\mathbf{v}$ and **eigenvalue** $\\lambda$ satisfy:\n\n$$\nA\\mathbf{v} = \\lambda\\mathbf{v}\n$$\n\n- $\\mathbf{v}$ is a **nonzero vector** whose direction is unchanged by the transformation $A$, only scaled.\n- $\\lambda$ is the **scaling factor** (can be negative, zero, or complex).\n\n---",
      "metadata": {}
    },
    {
      "id": "d0521b7a-9870-4460-84ba-0f417b98c18a",
      "cell_type": "markdown",
      "source": "## 2. **Why are Eigenvalues and Eigenvectors Important?**\n\n- Help **analyze linear transformations**\n- Used in **differential equations**, **PCA** (Principal Component Analysis), **stability analysis**, **quantum mechanics**, and more\n- Diagonalize matrices for easier computations\n\n---",
      "metadata": {}
    },
    {
      "id": "751d97bb-d8c1-4f45-818a-e395b69b7595",
      "cell_type": "markdown",
      "source": "## 3. **Computing Eigenvalues and Eigenvectors in Python**\n\nUse `numpy.linalg.eig()` for square matrices.\n\n### **Example 1: 2×2 Matrix**",
      "metadata": {}
    },
    {
      "id": "38927367-8910-4757-ae0c-24f50fba6456",
      "cell_type": "code",
      "source": "import numpy as np\n\nA = np.array([[2, 1],\n              [1, 2]])\n\n# Compute eigenvalues and eigenvectors\neigvals, eigvecs = np.linalg.eig(A)\n\nprint(\"Eigenvalues:\", eigvals)\nprint(\"Eigenvectors (columns):\\n\", eigvecs)",
      "metadata": {
        "trusted": true
      },
      "outputs": [
        {
          "name": "stdout",
          "output_type": "stream",
          "text": "Eigenvalues: [3. 1.]\nEigenvectors (columns):\n [[ 0.70710678 -0.70710678]\n [ 0.70710678  0.70710678]]\n"
        }
      ],
      "execution_count": 1
    },
    {
      "id": "994f20a3-47d7-466f-ae66-6385eaaad979",
      "cell_type": "markdown",
      "source": "Each eigenvector in the columns corresponds to the eigenvalue at the same index.",
      "metadata": {}
    },
    {
      "id": "ad33de7a-6fe0-4a57-acbd-169e148a9aa4",
      "cell_type": "markdown",
      "source": "### **Example 2: Check the Property $A\\mathbf{v} = \\lambda\\mathbf{v}$**",
      "metadata": {}
    },
    {
      "id": "6a1d4851-78a1-43ff-a12d-ccbe6e1431c8",
      "cell_type": "code",
      "source": "for i in range(len(eigvals)):\n    v = eigvecs[:, i]\n    Av = A @ v\n    lv = eigvals[i] * v\n    print(f\"Check for eigenvalue {eigvals[i]:.2f}: \", np.allclose(Av, lv))",
      "metadata": {
        "trusted": true
      },
      "outputs": [
        {
          "name": "stdout",
          "output_type": "stream",
          "text": "Check for eigenvalue 3.00:  True\nCheck for eigenvalue 1.00:  True\n"
        }
      ],
      "execution_count": 2
    },
    {
      "id": "aaed6ad3-42c5-4e12-9374-ded87d9d1263",
      "cell_type": "markdown",
      "source": "This should print `True` for each pair.",
      "metadata": {}
    },
    {
      "id": "750744db-c055-4ab2-9c05-aae52e5297f7",
      "cell_type": "markdown",
      "source": "\n---\n\n## 4. **Geometric Interpretation**\n\n- **Eigenvectors** mark directions that stay the same (up to scaling) when the matrix is applied.\n- **Eigenvalues** tell you how much the eigenvector is stretched or shrunk.\n\n---\n\n## 5. **Complex Eigenvalues and Eigenvectors**\n\nSome matrices have complex eigenvalues/vectors (e.g., rotation matrices). NumPy handles these automatically.\n\n---\n\n## 6. **Applications**\n\n- **PCA**: Principal components are eigenvectors of the covariance matrix.\n- **Markov Chains**: Steady-state is given by eigenvector with eigenvalue 1.\n- **Differential Equations**: Solutions often involve eigenvalues/vectors.\n\n---\n\n## 7. **Practice Problems**\n\n1. Find the eigenvalues and eigenvectors of\n   $$\n   \\begin{bmatrix}\n   4 & -2 \\\\\n   1 & 1\n   \\end{bmatrix}\n   $$\n2. For\n   $$\n   \\begin{bmatrix}\n   0 & -1 \\\\\n   1 & 0\n   \\end{bmatrix}\n   $$\n   what are the eigenvalues? (Hint: complex.)\n3. Check in code that $A\\mathbf{v} = \\lambda\\mathbf{v}$ holds for your results.\n\nTry using `np.linalg.eig()` for these!\n\n---\n\n## 8. **Summary Table**\n\n| Task              | Python Function        |\n|-------------------|-----------------------|\n| Eigenvalues/vectors | `np.linalg.eig(A)`   |\n| Check property    | `np.allclose(A @ v, λ * v)` |\n\n---\n\n**References:**\n- [NumPy Documentation – `linalg.eig`](https://numpy.org/doc/stable/reference/generated/numpy.linalg.eig.html)\n- [Eigenvalues and eigenvectors (Wikipedia)](https://en.wikipedia.org/wiki/Eigenvalues_and_eigenvectors)\n\n---",
      "metadata": {}
    },
    {
      "id": "4b679694-3588-4157-bf5d-a2c8ad6a75e7",
      "cell_type": "markdown",
      "source": "# [Linear Algebra Context](./README.md)",
      "metadata": {}
    }
  ]
}