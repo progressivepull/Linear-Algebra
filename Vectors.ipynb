{
  "metadata": {
    "kernelspec": {
      "name": "python",
      "display_name": "Python (Pyodide)",
      "language": "python"
    },
    "language_info": {
      "codemirror_mode": {
        "name": "python",
        "version": 3
      },
      "file_extension": ".py",
      "mimetype": "text/x-python",
      "name": "python",
      "nbconvert_exporter": "python",
      "pygments_lexer": "ipython3",
      "version": "3.8"
    }
  },
  "nbformat_minor": 5,
  "nbformat": 4,
  "cells": [
    {
      "id": "f4d16477-fc03-4a2a-91c3-1783258823f5",
      "cell_type": "markdown",
      "source": "# Linear Algebra with Python: Vectors\n\nVectors are fundamental objects in linear algebra, representing quantities with both **magnitude** and **direction**. They are used extensively in physics, engineering, computer science, and more. In this tutorial, you'll learn how to work with vectors using Python.\n",
      "metadata": {}
    },
    {
      "id": "e5dfdf7c-3dcc-4c94-b57b-6548e82532d7",
      "cell_type": "markdown",
      "source": "---\n\n## 1. What is a Vector?\n\n- **Definition**: A vector is an ordered list of numbers (components), often visualized as an arrow in space.\n- **Example**: In 2D, the vector **v** = [3, 4] has components 3 along the x-axis and 4 along the y-axis.\n\n---",
      "metadata": {}
    },
    {
      "id": "4b4adcbd-38b0-4f08-bd77-9c299aa9e99c",
      "cell_type": "markdown",
      "source": "## 2. Creating Vectors in Python\n\nWe'll use the `numpy` library, which is powerful for numerical computations.\n",
      "metadata": {}
    },
    {
      "id": "8ba268ab-3c9d-462c-91d6-36af414c31c6",
      "cell_type": "code",
      "source": "import numpy as np\n\n# Create a 2D vector\nv = np.array([3, 4])\nprint(\"Vector v:\", v)\n\n# Create a 3D vector\nw = np.array([1, 2, 3])\nprint(\"Vector w:\", w)",
      "metadata": {
        "trusted": true
      },
      "outputs": [
        {
          "name": "stdout",
          "output_type": "stream",
          "text": "Vector v: [3 4]\nVector w: [1 2 3]\n"
        }
      ],
      "execution_count": 1
    },
    {
      "id": "5db11a7a-c5b8-42e7-8658-e323adaa40a9",
      "cell_type": "markdown",
      "source": "## 3. Visualizing Vectors\n\nLet's plot 2D vectors using `matplotlib`.",
      "metadata": {}
    },
    {
      "id": "294e59c4-545c-488a-b7e3-42c80f22eb60",
      "cell_type": "code",
      "source": "import matplotlib.pyplot as plt\n\norigin = [0], [0]  # origin point\n\nplt.quiver(*origin, v[0], v[1], angles='xy', scale_units='xy', scale=1, color='r')\nplt.xlim(0, 5)\nplt.ylim(0, 5)\nplt.xlabel('x')\nplt.ylabel('y')\nplt.title('Vector v')\nplt.grid()\nplt.show()",
      "metadata": {
        "trusted": true
      },
      "outputs": [
        {
          "name": "stderr",
          "output_type": "stream",
          "text": "Matplotlib is building the font cache; this may take a moment.\n"
        },
        {
          "output_type": "display_data",
          "data": {
            "text/plain": "<Figure size 640x480 with 1 Axes>",
            "image/png": "[encoded data removed]"
          },
          "metadata": {}
        }
      ],
      "execution_count": 2
    },
    {
      "id": "4250f5b7-9371-4a5e-bed5-110c6b06940f",
      "cell_type": "markdown",
      "source": "## 4. Vector Magnitude\n\nThe **magnitude** (or length) of a vector \\( \\mathbf{v} = [v_1, v_2, ..., v_n] \\) is:\n\n$$\n|\\mathbf{v}| = \\sqrt{v_1^2 + v_2^2 + ... + v_n^2}\n$$\n\nIn Python:",
      "metadata": {}
    },
    {
      "id": "ea1e97aa-8b0f-4dac-8baa-5d7d0cde782c",
      "cell_type": "code",
      "source": "magnitude_v = np.linalg.norm(v)\nprint(\"Magnitude of v:\", magnitude_v)",
      "metadata": {
        "trusted": true
      },
      "outputs": [
        {
          "name": "stdout",
          "output_type": "stream",
          "text": "Magnitude of v: 5.0\n"
        }
      ],
      "execution_count": 3
    },
    {
      "id": "f1b72fc1-4a9b-4c31-a0a2-3cc0ec9d16d7",
      "cell_type": "markdown",
      "source": "## 5. Vector Operations\n\n### a. Addition and Subtraction",
      "metadata": {}
    },
    {
      "id": "e37aa4ee-1c20-49ca-b9c8-180bf21710b4",
      "cell_type": "code",
      "source": "u = np.array([1, 1])\nsum_vector = v + u  # [3,4] + [1,1] = [4,5]\ndiff_vector = v - u # [3,4] - [1,1] = [2,3]\nprint(\"Sum:\", sum_vector)\nprint(\"Difference:\", diff_vector)",
      "metadata": {
        "trusted": true
      },
      "outputs": [
        {
          "name": "stdout",
          "output_type": "stream",
          "text": "Sum: [4 5]\nDifference: [2 3]\n"
        }
      ],
      "execution_count": 4
    },
    {
      "id": "89bb85f8-fb2e-477c-b5e4-6896863d03a9",
      "cell_type": "markdown",
      "source": "### b. Scalar Multiplication",
      "metadata": {}
    },
    {
      "id": "a5789eb9-f7f2-4656-ae45-ba75ce9bae8d",
      "cell_type": "code",
      "source": "scalar = 2\nscaled_v = scalar * v  # [6, 8]\nprint(\"Scaled vector:\", scaled_v)",
      "metadata": {
        "trusted": true
      },
      "outputs": [
        {
          "name": "stdout",
          "output_type": "stream",
          "text": "Scaled vector: [6 8]\n"
        }
      ],
      "execution_count": 5
    },
    {
      "id": "fef942a9-a5cf-4042-bd1f-6fb8cca43a2e",
      "cell_type": "markdown",
      "source": "## 6. Dot Product\n\nThe **dot product** gives a scalar:\n\n$$\n\\mathbf{v} \\cdot \\mathbf{w} = v_1 w_1 + v_2 w_2 + ... + v_n w_n\n$$\n\nThis is useful to find the angle between vectors or determine if they are perpendicular.",
      "metadata": {}
    },
    {
      "id": "edac5686-279e-406c-a624-0458f13430f9",
      "cell_type": "code",
      "source": "dot = np.dot(v, u)\nprint(\"Dot product of v and u:\", dot)",
      "metadata": {
        "trusted": true
      },
      "outputs": [],
      "execution_count": null
    },
    {
      "id": "e8428c37-d8a0-4ffa-8020-c33d799b4ca9",
      "cell_type": "markdown",
      "source": "## 7. Angle Between Two Vectors\n\n$$\n\\cos(\\theta) = \\frac{\\mathbf{v} \\cdot \\mathbf{w}}{|\\mathbf{v}||\\mathbf{w}|}\n$$",
      "metadata": {}
    },
    {
      "id": "bfe733ec-9c2f-4524-b49e-1e542edd4e5f",
      "cell_type": "code",
      "source": "cos_theta = np.dot(v, u) / (np.linalg.norm(v) * np.linalg.norm(u))\ntheta = np.arccos(cos_theta)\nprint(\"Angle (radians):\", theta)\nprint(\"Angle (degrees):\", np.degrees(theta))",
      "metadata": {
        "trusted": true
      },
      "outputs": [
        {
          "name": "stdout",
          "output_type": "stream",
          "text": "Angle (radians): 0.14189705460416438\nAngle (degrees): 8.130102354156005\n"
        }
      ],
      "execution_count": 6
    },
    {
      "id": "d4a04777-77f8-4a96-a44b-83802e92cc99",
      "cell_type": "markdown",
      "source": "## 8. Unit Vectors\n\nA **unit vector** has a magnitude of 1 and points in the same direction as the original vector.",
      "metadata": {}
    },
    {
      "id": "122c3a73-2960-4c06-81ac-aac9770cb23e",
      "cell_type": "code",
      "source": "unit_v = v / np.linalg.norm(v)\nprint(\"Unit vector in the direction of v:\", unit_v)",
      "metadata": {
        "trusted": true
      },
      "outputs": [
        {
          "name": "stdout",
          "output_type": "stream",
          "text": "Unit vector in the direction of v: [0.6 0.8]\n"
        }
      ],
      "execution_count": 7
    },
    {
      "id": "f1b02913-2bfe-4dcc-b777-16dab3ffadf0",
      "cell_type": "markdown",
      "source": "## 9. Applications of Vectors\n\n- **Physics**: Representing forces, velocities, accelerations.\n- **Computer Graphics**: Movements, rotations, and directions.\n- **Engineering**: Structural analysis, statics, and dynamics.",
      "metadata": {}
    },
    {
      "id": "667ed909-4452-4862-88e5-0c53d1b25b9e",
      "cell_type": "markdown",
      "source": "---\n\n## 10. Summary\n\n- Vectors have both magnitude and direction.\n- Python (with `numpy` and `matplotlib`) is excellent for vector operations and visualization.\n- You can perform addition, subtraction, scaling, dot product, and compute magnitudes and angles easily.\n\n---\n\n**Explore more:**  \n- [NumPy Linear Algebra Documentation](https://numpy.org/doc/stable/reference/routines.linalg.html)  \n- [3Blue1Brown: Essence of Linear Algebra (YouTube)](https://www.youtube.com/watch?v=fNk_zzaMoSs)\n\n---",
      "metadata": {}
    },
    {
      "id": "b9472343-732f-4e3d-941d-0427ed4fb034",
      "cell_type": "markdown",
      "source": "# [Linear Algebra Context](./README.md)",
      "metadata": {}
    }
  ]
}