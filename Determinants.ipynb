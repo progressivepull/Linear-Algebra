{
  "metadata": {
    "kernelspec": {
      "name": "python",
      "display_name": "Python (Pyodide)",
      "language": "python"
    },
    "language_info": {
      "codemirror_mode": {
        "name": "python",
        "version": 3
      },
      "file_extension": ".py",
      "mimetype": "text/x-python",
      "name": "python",
      "nbconvert_exporter": "python",
      "pygments_lexer": "ipython3",
      "version": "3.8"
    }
  },
  "nbformat_minor": 5,
  "nbformat": 4,
  "cells": [
    {
      "id": "c3c089ab-0ed3-4e55-96c2-95cd17cdbe72",
      "cell_type": "markdown",
      "source": "# Linear Algebra Tutorial Using Python: Determinants\n\nThis tutorial covers **determinants**—what they are, how to compute them from a square matrix, and their significance. We’ll use Python and NumPy for computation.\n\n---",
      "metadata": {}
    },
    {
      "id": "d4692ebb-bc6c-4b32-b2b8-a7a66d581543",
      "cell_type": "markdown",
      "source": "## 1. **What is a Determinant?**\n\nThe **determinant** is a scalar value calculated from a square matrix. It provides important information about the matrix, such as:\n\n- Whether the matrix is invertible (nonzero determinant)\n- Area/volume scaling factor for linear transformations\n- Whether a system of equations has a unique solution\n\n---",
      "metadata": {}
    },
    {
      "id": "0897e021-07bb-46b7-a9b2-460a6e4e28b6",
      "cell_type": "markdown",
      "source": "## 2. **Calculating Determinants by Hand**\n\nFor a 2×2 matrix:\n$$\nA =\n\\begin{bmatrix}\na & b \\\\\nc & d\n\\end{bmatrix}\n$$\n$$\n\\det(A) = ad - bc\n$$\n\nFor a 3×3 matrix:\n$$\nA =\n\\begin{bmatrix}\na & b & c \\\\\nd & e & f \\\\\ng & h & i\n\\end{bmatrix}\n$$\n$$\n\\det(A) = a(ei - fh) - b(di - fg) + c(dh - eg)\n$$\n\n---",
      "metadata": {}
    },
    {
      "id": "6610667d-4b84-4650-9fa5-506db6bbb79a",
      "cell_type": "markdown",
      "source": "## 3. **Computing Determinants in Python**\n\nUse `numpy.linalg.det()` for any square matrix.\n\n### **Example: 2×2 Matrix**",
      "metadata": {}
    },
    {
      "id": "d89a326b-64d1-4b37-945f-b20c45a7de3f",
      "cell_type": "code",
      "source": "import numpy as np\n\nA = np.array([[3, 5],\n              [2, 4]])\ndet_A = np.linalg.det(A)\nprint(\"Determinant:\", det_A)",
      "metadata": {
        "trusted": true
      },
      "outputs": [
        {
          "name": "stdout",
          "output_type": "stream",
          "text": "Determinant: 2.000000000000001\n"
        }
      ],
      "execution_count": 1
    },
    {
      "id": "0a30d5e4-79e8-426e-9e0f-3996b36ea22b",
      "cell_type": "markdown",
      "source": "### **Example: 3×3 Matrix**",
      "metadata": {}
    },
    {
      "id": "331e2770-4cfb-4c5a-9ccf-5dd2f3f780a6",
      "cell_type": "code",
      "source": "A = np.array([[1, 2, 3],\n              [0, 4, 5],\n              [1, 0, 6]])\ndet_A = np.linalg.det(A)\nprint(\"Determinant:\", det_A)",
      "metadata": {
        "trusted": true
      },
      "outputs": [
        {
          "name": "stdout",
          "output_type": "stream",
          "text": "Determinant: 22.000000000000004\n"
        }
      ],
      "execution_count": 2
    },
    {
      "id": "c66d4b4c-0e16-433d-9555-5442fa3fee8a",
      "cell_type": "markdown",
      "source": "## 4. **Properties of Determinants**\n\n- **Zero determinant:** Matrix is **singular** (not invertible)\n- **Nonzero determinant:** Matrix is **invertible**\n- **Multiplicative:** $\\det(AB) = \\det(A)\\det(B)$\n- **Row swaps:** Swapping rows changes determinant sign\n- **Scaling a row:** Multiplying a row by $k$ multiplies determinant by $k$\n\n---\n\n## 5. **Geometric Interpretation**\n\n- For 2×2: The **absolute value** of the determinant gives the area scaling factor of the transformation.\n- For 3×3: The **absolute value** gives the volume scaling factor.\n\n---\n\n## 6. **Applications of Determinants**\n\n- Solving linear systems (Cramer’s rule)\n- Checking invertibility\n- Area/volume calculation\n- Change of variables in calculus\n\n---\n\n## 7. **Practice Problems**\n\n1. Compute the determinant of  \n   $$\n   \\begin{bmatrix}\n   0 & 6 \\\\\n   2 & 4\n   \\end{bmatrix}\n   $$\n2. What happens to the determinant if you multiply one row of a matrix by 3?\n3. Compute the determinant of  \n   $$\n   \\begin{bmatrix}\n   2 & 1 & 3 \\\\\n   1 & 0 & 5 \\\\\n   4 & 2 & 1\n   \\end{bmatrix}\n   $$\n\nTry these using `numpy.linalg.det()`!\n\n---\n\n## 8. **Summary Table**\n\n| Task                        | Python Function            |\n|-----------------------------|---------------------------|\n| Determinant (any size)      | `np.linalg.det(A)`        |\n| Invertible if det ≠ 0       | `np.linalg.det(A) != 0`   |\n\n---\n\n**References:**\n- [NumPy Documentation – `linalg.det`](https://numpy.org/doc/stable/reference/generated/numpy.linalg.det.html)\n- [Determinant (Wikipedia)](https://en.wikipedia.org/wiki/Determinant)\n\n---",
      "metadata": {}
    },
    {
      "id": "9ed36574-83be-43e9-a541-dd2f85253812",
      "cell_type": "markdown",
      "source": "# [Linear Algebra Context](./README.md)",
      "metadata": {}
    }
  ]
}