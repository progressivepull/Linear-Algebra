{
  "metadata": {
    "kernelspec": {
      "name": "python",
      "display_name": "Python (Pyodide)",
      "language": "python"
    },
    "language_info": {
      "codemirror_mode": {
        "name": "python",
        "version": 3
      },
      "file_extension": ".py",
      "mimetype": "text/x-python",
      "name": "python",
      "nbconvert_exporter": "python",
      "pygments_lexer": "ipython3",
      "version": "3.8"
    }
  },
  "nbformat_minor": 5,
  "nbformat": 4,
  "cells": [
    {
      "id": "4a52d9e3-dd3a-4669-a412-f4125fc5f886",
      "cell_type": "markdown",
      "source": "# Linear Algebra Tutorial Using Python: Linear Transformations\n\nIn this tutorial, you'll learn about **linear transformations**—functions that map vectors to other vectors while preserving linear combinations—and how to work with them using Python and NumPy.\n\n---",
      "metadata": {}
    },
    {
      "id": "b84c16ca-1bcd-4185-b208-eef768cc7bb2",
      "cell_type": "markdown",
      "source": "## 1. **What is a Linear Transformation?**\n\nA **linear transformation** $ T $ from $ \\mathbb{R}^n $ to $ \\mathbb{R}^m $ is a function that satisfies:\n\n- **Additivity:** $ T(\\mathbf{u} + \\mathbf{v}) = T(\\mathbf{u}) + T(\\mathbf{v}) $\n- **Homogeneity:** $ T(c\\mathbf{u}) = cT(\\mathbf{u}) $ for all scalars $ c $\n\nLinear transformations can be represented as **matrix multiplication**.\n\n---",
      "metadata": {}
    },
    {
      "id": "9cae1c23-bbdb-47a3-b67c-66f0af745a62",
      "cell_type": "markdown",
      "source": "## 2. **Matrix Representation**\n\nIf $ T $ is a linear transformation from $ \\mathbb{R}^n $ to $ \\mathbb{R}^m $, then there exists an $ m \\times n $ matrix $ A $ such that:\n\n$$\nT(\\mathbf{x}) = A\\mathbf{x}\n$$\n\n---",
      "metadata": {}
    },
    {
      "id": "4e1e43ad-bfe9-48e0-a22a-6c2247d19e5d",
      "cell_type": "markdown",
      "source": "## 3. **Examples of Linear Transformations**\n\n### **a. 2D Rotation**\n\nA rotation by angle $ \\theta $ counterclockwise:\n\n$$\nA = \\begin{bmatrix}\n\\cos\\theta & -\\sin\\theta \\\\\n\\sin\\theta & \\cos\\theta\n\\end{bmatrix}\n$$",
      "metadata": {}
    },
    {
      "id": "3531b5d3-8111-4ddd-9fb0-71c78e4695af",
      "cell_type": "code",
      "source": "import numpy as np\n\ntheta = np.deg2rad(45)  # 45 degree rotation\nA = np.array([\n    [np.cos(theta), -np.sin(theta)],\n    [np.sin(theta),  np.cos(theta)]\n])\n\nv = np.array([1, 0])  # Original vector\n\nv_rotated = A @ v    # Apply the transformation\nprint(\"Rotated vector:\", v_rotated)",
      "metadata": {
        "trusted": true
      },
      "outputs": [
        {
          "name": "stdout",
          "output_type": "stream",
          "text": "Rotated vector: [0.70710678 0.70710678]\n"
        }
      ],
      "execution_count": 1
    },
    {
      "id": "321a2a02-07d1-488c-b785-c5a878298d87",
      "cell_type": "markdown",
      "source": "### **b. 2D Scaling**\n\nScale by 2 in x and 0.5 in y:\n\n$$\nA = \\begin{bmatrix}\n2 & 0 \\\\\n0 & 0.5\n\\end{bmatrix}\n$$",
      "metadata": {}
    },
    {
      "id": "4d57561a-6786-4188-ba2d-f1b541065be4",
      "cell_type": "code",
      "source": "A = np.array([\n    [2, 0],\n    [0, 0.5]\n])\n\nv = np.array([3, 4])\nv_scaled = A @ v\nprint(\"Scaled vector:\", v_scaled)",
      "metadata": {
        "trusted": true
      },
      "outputs": [
        {
          "name": "stdout",
          "output_type": "stream",
          "text": "Scaled vector: [6. 2.]\n"
        }
      ],
      "execution_count": 2
    },
    {
      "id": "8b314d58-32bb-4855-87b2-3d802a03debd",
      "cell_type": "markdown",
      "source": "### **c. 2D Reflection across the x-axis**\n\n$$\nA = \\begin{bmatrix}\n1 & 0 \\\\\n0 & -1\n\\end{bmatrix}\n$$",
      "metadata": {}
    },
    {
      "id": "856f5b04-108e-45d0-b4ef-c75b37e3aa21",
      "cell_type": "code",
      "source": "A = np.array([\n    [1, 0],\n    [0, -1]\n])\n\nv = np.array([2, 5])\nv_reflected = A @ v\nprint(\"Reflected vector:\", v_reflected)",
      "metadata": {
        "trusted": true
      },
      "outputs": [
        {
          "name": "stdout",
          "output_type": "stream",
          "text": "Reflected vector: [ 2 -5]\n"
        }
      ],
      "execution_count": 3
    },
    {
      "id": "52cb2a91-99ee-4bbb-b052-4e84e297924d",
      "cell_type": "markdown",
      "source": "## 4. **General Linear Transformation**\n\nGiven any $ m \\times n $ matrix $ A $ and a vector $ v $ in $ \\mathbb{R}^n $:\n\n$$\nT(\\mathbf{v}) = A\\mathbf{v}\n$$\n\n**Python Example:**",
      "metadata": {}
    },
    {
      "id": "8fd3204d-bb0c-4167-8819-bfac4081615f",
      "cell_type": "code",
      "source": "A = np.array([\n    [1, 2, 0],\n    [0, 1, -1]\n])  # 2x3 matrix\n\nv = np.array([1, 0, -2])  # 3D vector\n\nTv = A @ v\nprint(\"Transformed vector:\", Tv)",
      "metadata": {
        "trusted": true
      },
      "outputs": [
        {
          "name": "stdout",
          "output_type": "stream",
          "text": "Transformed vector: [1 2]\n"
        }
      ],
      "execution_count": 4
    },
    {
      "id": "fda963a0-6263-4207-86ac-a51afdbbb4c8",
      "cell_type": "markdown",
      "source": "## 5. **Preserving Linear Combinations**\n\nIf $ T $ is a linear transformation and $ \\mathbf{u}, \\mathbf{v} $ are vectors, and $ a, b $ are scalars:\n\n$$\nT(a\\mathbf{u} + b\\mathbf{v}) = aT(\\mathbf{u}) + bT(\\mathbf{v})\n$$\n\n**Python Example:**",
      "metadata": {}
    },
    {
      "id": "4071217d-35a3-4b0f-ba38-8bf4af7d3fa0",
      "cell_type": "code",
      "source": "A = np.array([[2, 0], [0, 3]])\nu = np.array([1, 2])\nv = np.array([4, -1])\na, b = 5, -3\n\nlhs = A @ (a*u + b*v)\nrhs = a*(A@u) + b*(A@v)\nprint(\"T(a*u + b*v):\", lhs)\nprint(\"a*T(u) + b*T(v):\", rhs)",
      "metadata": {
        "trusted": true
      },
      "outputs": [
        {
          "name": "stdout",
          "output_type": "stream",
          "text": "T(a*u + b*v): [-14  39]\na*T(u) + b*T(v): [-14  39]\n"
        }
      ],
      "execution_count": 5
    },
    {
      "id": "acf8fe4e-8000-42f9-a755-cc46eaa94d69",
      "cell_type": "markdown",
      "source": "Both should be equal.",
      "metadata": {}
    },
    {
      "id": "c4d4184b-8506-4778-bd97-dce1b5572bbe",
      "cell_type": "markdown",
      "source": "## 6. **Summary Table**\n\n| Transformation | Matrix Form                                 | Python Example    |\n|----------------|---------------------------------------------|-------------------|\n| Rotation       | $\\begin{bmatrix}\\cos\\theta & -\\sin\\theta\\\\ \\sin\\theta & \\cos\\theta\\end{bmatrix}$ | see above         |\n| Scaling        | $\\begin{bmatrix}a & 0\\\\ 0 & b\\end{bmatrix}$ | see above         |\n| Reflection     | $\\begin{bmatrix}1 & 0\\\\ 0 & -1\\end{bmatrix}$ | see above         |\n\n---",
      "metadata": {}
    },
    {
      "id": "227e8508-3b34-4814-8d34-b86a065bffc6",
      "cell_type": "markdown",
      "source": "\n## 7. **Practice Problems**\n\n1. Write a function that applies a linear transformation to a set of 2D points.\n2. What is the effect of the matrix $ \\begin{bmatrix}0 & 1\\\\1 & 0\\end{bmatrix} $ on a vector?\n3. Verify with code that $ T(a\\mathbf{u} + b\\mathbf{v}) = aT(\\mathbf{u}) + bT(\\mathbf{v}) $ for a random matrix and vectors.\n\n---\n\n**References:**\n- [NumPy Linear Algebra](https://numpy.org/doc/stable/reference/generated/numpy.dot.html)\n- [Linear transformation (Wikipedia)](https://en.wikipedia.org/wiki/Linear_map)\n\n---",
      "metadata": {}
    },
    {
      "id": "8f80c0b2-8e97-47b1-9833-869434f0f6db",
      "cell_type": "markdown",
      "source": "# [Linear Algebra Context](./README.md)",
      "metadata": {}
    }
  ]
}