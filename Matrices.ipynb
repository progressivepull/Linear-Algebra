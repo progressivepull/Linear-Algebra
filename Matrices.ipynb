{
  "metadata": {
    "kernelspec": {
      "name": "python",
      "display_name": "Python (Pyodide)",
      "language": "python"
    },
    "language_info": {
      "codemirror_mode": {
        "name": "python",
        "version": 3
      },
      "file_extension": ".py",
      "mimetype": "text/x-python",
      "name": "python",
      "nbconvert_exporter": "python",
      "pygments_lexer": "ipython3",
      "version": "3.8"
    }
  },
  "nbformat_minor": 5,
  "nbformat": 4,
  "cells": [
    {
      "id": "eb357037-1f05-47fb-a3dd-3cb689c5868e",
      "cell_type": "markdown",
      "source": "# Linear Algebra with Python: Matrices\n\nMatrices are fundamental building blocks in linear algebra. They are used to represent linear transformations, systems of equations, and more. In this tutorial, you'll learn how to work with matrices using Python.\n\n---",
      "metadata": {}
    },
    {
      "id": "7a343b39-ac9b-4b93-8471-359da5b0ceb8",
      "cell_type": "markdown",
      "source": "## 1. What is a Matrix?\n\n- **Definition**: A matrix is a rectangular array of numbers arranged in rows and columns.\n- **Example**:  \n  $$\n  A = \\begin{bmatrix}\n  1 & 2 & 3 \\\\\n  4 & 5 & 6\n  \\end{bmatrix}\n  $$\n  This is a 2x3 matrix (2 rows, 3 columns).\n\n---",
      "metadata": {}
    },
    {
      "id": "c82a7e7b-755e-4bc9-8af5-bf68845220d5",
      "cell_type": "markdown",
      "source": "## 2. Creating Matrices in Python\n\nWe'll use the `numpy` library, which is powerful for numerical computations.",
      "metadata": {}
    },
    {
      "id": "15932396-bebd-4bce-82ae-4c933c54d9e3",
      "cell_type": "code",
      "source": "import numpy as np\n\n# Create a 2x3 matrix\nA = np.array([[1, 2, 3],\n              [4, 5, 6]])\nprint(\"Matrix A:\\n\", A)\n\n# Create a 3x3 identity matrix\nI = np.eye(3)\nprint(\"Identity Matrix:\\n\", I)",
      "metadata": {
        "trusted": true
      },
      "outputs": [
        {
          "name": "stdout",
          "output_type": "stream",
          "text": "Matrix A:\n [[1 2 3]\n [4 5 6]]\nIdentity Matrix:\n [[1. 0. 0.]\n [0. 1. 0.]\n [0. 0. 1.]]\n"
        }
      ],
      "execution_count": 1
    },
    {
      "id": "9ab54919-e525-4b7f-af6a-1f6c3d76751e",
      "cell_type": "markdown",
      "source": "## 3. Matrix Operations\n\n### a. Addition and Subtraction\n\nYou can add or subtract matrices of the same shape.",
      "metadata": {}
    },
    {
      "id": "67f7e307-e2d9-487c-a0bc-db752ae2abf2",
      "cell_type": "code",
      "source": "B = np.array([[7, 8, 9],\n              [10, 11, 12]])\nC = A + B\nprint(\"A + B:\\n\", C)",
      "metadata": {
        "trusted": true
      },
      "outputs": [
        {
          "name": "stdout",
          "output_type": "stream",
          "text": "A + B:\n [[ 8 10 12]\n [14 16 18]]\n"
        }
      ],
      "execution_count": 2
    },
    {
      "id": "56e28f2f-61ec-4146-91d1-afd3668ead5c",
      "cell_type": "markdown",
      "source": "### b. Scalar Multiplication",
      "metadata": {}
    },
    {
      "id": "2b436cd4-bb38-4327-8db3-3fcfd39c50af",
      "cell_type": "code",
      "source": "scalar = 2\nD = scalar * A\nprint(\"2 * A:\\n\", D)",
      "metadata": {
        "trusted": true
      },
      "outputs": [
        {
          "name": "stdout",
          "output_type": "stream",
          "text": "2 * A:\n [[ 2  4  6]\n [ 8 10 12]]\n"
        }
      ],
      "execution_count": 3
    },
    {
      "id": "6ff2fb09-3752-4820-be80-c152b3441bed",
      "cell_type": "markdown",
      "source": "### c. Matrix Multiplication\n\nFor two matrices $ A $ (of shape $ m \\times n $) and $ B $ (of shape $ n \\times p $), their product is an $ m \\times p $ matrix.\n",
      "metadata": {}
    },
    {
      "id": "ca41a64b-c4e5-4872-b1e1-12c43ad4e621",
      "cell_type": "code",
      "source": "# Matrix multiplication (dot product)\nE = np.array([[1, 2],\n              [3, 4],\n              [5, 6]])\nproduct = np.dot(A, E)\nprint(\"A dot E:\\n\", product)",
      "metadata": {
        "trusted": true
      },
      "outputs": [
        {
          "name": "stdout",
          "output_type": "stream",
          "text": "A dot E:\n [[22 28]\n [49 64]]\n"
        }
      ],
      "execution_count": 4
    },
    {
      "id": "24d2b2aa-82a4-41c9-8388-0e696a8950d0",
      "cell_type": "markdown",
      "source": "Or, with the `@` operator (Python 3.5+):",
      "metadata": {}
    },
    {
      "id": "2b54730f-266c-40d8-8dd7-6aaf1b45f5a4",
      "cell_type": "code",
      "source": "product2 = A @ E\nprint(\"A dot E:\\n\", product2)",
      "metadata": {
        "trusted": true
      },
      "outputs": [
        {
          "name": "stdout",
          "output_type": "stream",
          "text": "A dot E:\n [[22 28]\n [49 64]]\n"
        }
      ],
      "execution_count": 6
    },
    {
      "id": "ef667384-9f89-404a-b6a0-ba3028a55515",
      "cell_type": "markdown",
      "source": "## 4. Transpose of a Matrix\n\nThe transpose flips a matrix over its diagonal.\n",
      "metadata": {}
    },
    {
      "id": "550fdfc7-5e8e-4932-907b-9f258e62ae8d",
      "cell_type": "code",
      "source": "A_T = A.T\nprint(\"Transpose of A:\\n\", A_T)",
      "metadata": {
        "trusted": true
      },
      "outputs": [
        {
          "name": "stdout",
          "output_type": "stream",
          "text": "Transpose of A:\n [[1 4]\n [2 5]\n [3 6]]\n"
        }
      ],
      "execution_count": 7
    },
    {
      "id": "cfc618fd-2da0-4bdd-b05a-bd854ea105b6",
      "cell_type": "markdown",
      "source": "## 5. Inverse of a Matrix\n\nOnly square matrices (same number of rows and columns) with non-zero determinant have inverses.",
      "metadata": {}
    },
    {
      "id": "98a178bf-89ac-4a7f-987d-fcab77ae4380",
      "cell_type": "code",
      "source": "F = np.array([[1, 2],\n              [3, 4]])\nF_inv = np.linalg.inv(F)\nprint(\"Inverse of F:\\n\", F_inv)",
      "metadata": {
        "trusted": true
      },
      "outputs": [
        {
          "name": "stdout",
          "output_type": "stream",
          "text": "Inverse of F:\n [[-2.   1. ]\n [ 1.5 -0.5]]\n"
        }
      ],
      "execution_count": 8
    },
    {
      "id": "36ea9055-4d52-454f-922f-ed0e859a3f9c",
      "cell_type": "markdown",
      "source": "## 6. Determinant of a Matrix\n\nThe determinant is a special number that can be calculated from a square matrix.",
      "metadata": {}
    },
    {
      "id": "cc09e915-9cd0-4677-b07d-afbf6c69f855",
      "cell_type": "code",
      "source": "det_F = np.linalg.det(F)\nprint(\"Determinant of F:\", det_F)",
      "metadata": {
        "trusted": true
      },
      "outputs": [
        {
          "name": "stdout",
          "output_type": "stream",
          "text": "Determinant of F: -2.0000000000000004\n"
        }
      ],
      "execution_count": 9
    },
    {
      "id": "83707a69-03cd-45a1-a973-87690b4c0a73",
      "cell_type": "markdown",
      "source": "## 7. Solving Systems of Linear Equations\n\nSuppose you have the system:\n$$\n2x + y = 5     \n$$\n$$\nx - y = 1\n$$\nThis can be written as $ AX = B $:\n\n$$\nA = \\begin{bmatrix} 2 & 1 \\\\ 1 & -1 \\end{bmatrix},\\quad X = \\begin{bmatrix} x \\\\ y \\end{bmatrix},\\quad B = \\begin{bmatrix} 5 \\\\ 1 \\end{bmatrix}\n$$\n\nYou can solve for $ X $ using:",
      "metadata": {}
    },
    {
      "id": "0833927e-4e8a-469c-9603-bee6349e1cb6",
      "cell_type": "code",
      "source": "A_sys = np.array([[2, 1], [1, -1]])\nB_sys = np.array([5, 1])\nX = np.linalg.solve(A_sys, B_sys)\nprint(\"Solution [x, y]:\", X)",
      "metadata": {
        "trusted": true
      },
      "outputs": [
        {
          "name": "stdout",
          "output_type": "stream",
          "text": "Solution [x, y]: [2. 1.]\n"
        }
      ],
      "execution_count": 10
    },
    {
      "id": "bb099912-7c3a-4373-a159-6924e71f331b",
      "cell_type": "markdown",
      "source": "## 8. Linear Transformations\n\nMatrices can represent transformations like rotations, scaling, and shearing in space.\n\n### Example: 2D Rotation\n\n$$\nR(\\theta) = \\begin{bmatrix}\n\\cos\\theta & -\\sin\\theta \\\\\n\\sin\\theta & \\cos\\theta\n\\end{bmatrix}\n$$\n\nRotate vector $ v = [1, 0] $ by 90 degrees:",
      "metadata": {}
    },
    {
      "id": "3e58dec9-eb18-4a98-a52d-71a17e02b7b8",
      "cell_type": "code",
      "source": "theta = np.deg2rad(90)\nR = np.array([[np.cos(theta), -np.sin(theta)],\n              [np.sin(theta),  np.cos(theta)]])\nv = np.array([1, 0])\nv_rotated = R @ v\nprint(\"Rotated vector:\", v_rotated)",
      "metadata": {
        "trusted": true
      },
      "outputs": [
        {
          "name": "stdout",
          "output_type": "stream",
          "text": "Rotated vector: [6.123234e-17 1.000000e+00]\n"
        }
      ],
      "execution_count": 11
    },
    {
      "id": "b22074dd-a423-452d-a506-349aca33e687",
      "cell_type": "markdown",
      "source": "## 9. Applications\n\n- **Computer Graphics:** Transforming coordinates, scaling, rotating images.\n- **Physics/Engineering:** Solving systems (e.g., circuits, forces).\n- **Data Science:** Encoding data, performing principal component analysis (PCA).\n\n---\n\n## 10. Summary\n\n- Matrices are rectangular arrays used to represent linear transformations and solve equations.\n- Python's `numpy` library makes matrix operations efficient and easy.\n- Key operations: addition, multiplication, transpose, inverse, determinant, and solving systems.\n\n---\n\n**Explore more:**  \n- [NumPy Linear Algebra Documentation](https://numpy.org/doc/stable/reference/routines.linalg.html)  \n- [3Blue1Brown: Essence of Linear Algebra (YouTube)](https://www.youtube.com/watch?v=kjBOesZCoqc)\n\n---",
      "metadata": {}
    },
    {
      "id": "20ad5e1d-c3bc-4d80-8287-5f491cc415f4",
      "cell_type": "markdown",
      "source": "# [Linear Algebra Context](./README.md)",
      "metadata": {}
    }
  ]
}