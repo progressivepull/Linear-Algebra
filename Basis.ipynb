{
  "metadata": {
    "kernelspec": {
      "name": "python",
      "display_name": "Python (Pyodide)",
      "language": "python"
    },
    "language_info": {
      "codemirror_mode": {
        "name": "python",
        "version": 3
      },
      "file_extension": ".py",
      "mimetype": "text/x-python",
      "name": "python",
      "nbconvert_exporter": "python",
      "pygments_lexer": "ipython3",
      "version": "3.8"
    }
  },
  "nbformat_minor": 5,
  "nbformat": 4,
  "cells": [
    {
      "id": "a12e0d84-7847-4cd2-8004-2b337e278893",
      "cell_type": "markdown",
      "source": "# Linear Algebra Tutorial Using Python\n\nLinear algebra is a foundational area of mathematics, crucial for understanding data science, machine learning, computer graphics, and more. In this tutorial, we’ll explore the concept of **Basis** in linear algebra, using Python (with NumPy) for hands-on examples.\n\n---",
      "metadata": {}
    },
    {
      "id": "7eecc6d6-b08e-4957-a5ad-91f00134d855",
      "cell_type": "markdown",
      "source": "## Prerequisites\n\n- Python 3.x installed\n- [NumPy](https://numpy.org/) library installed\n\nYou can install NumPy using pip:\n```bash\npip install numpy\n```\n\n---",
      "metadata": {}
    },
    {
      "id": "bb70afc4-6f8d-4272-92a2-b36779b38216",
      "cell_type": "markdown",
      "source": "## What is a Basis?\n\nA **basis** of a vector space is a set of linearly independent vectors that span the entire space. Every vector in the space can be written as a linear combination of the basis vectors.\n\n**Key Points:**\n- **Linearly Independent**: No vector in the set can be written as a combination of the others.\n- **Span**: Any vector in the space can be formed by a combination of the basis vectors.\n\n---",
      "metadata": {}
    },
    {
      "id": "77a41d11-50d0-4166-86ed-89789feae7a8",
      "cell_type": "markdown",
      "source": "## Example 1: Standard Basis in 2D\n\nThe standard basis for $\\mathbb{R}^2$ (the 2D plane) is:\n$$\n\\mathbf{e}_1 = \\begin{bmatrix}1 \\\\ 0\\end{bmatrix},\\quad \\mathbf{e}_2 = \\begin{bmatrix}0 \\\\ 1\\end{bmatrix}\n$$",
      "metadata": {}
    },
    {
      "id": "00fd753d-9a52-4d0f-81b7-30fffc48ff42",
      "cell_type": "code",
      "source": "import numpy as np\n\n# Standard basis vectors in R^2\ne1 = np.array([1, 0])\ne2 = np.array([0, 1])\n\nprint(\"e1:\", e1)\nprint(\"e2:\", e2)",
      "metadata": {
        "trusted": true
      },
      "outputs": [
        {
          "name": "stdout",
          "output_type": "stream",
          "text": "e1: [1 0]\ne2: [0 1]\n"
        }
      ],
      "execution_count": 1
    },
    {
      "id": "bfc3b0fc-aa6d-46fe-9f2a-fa5cbe228fcb",
      "cell_type": "markdown",
      "source": "## Example 2: Checking Linear Independence\n\nLet’s check if two vectors are linearly independent using NumPy:",
      "metadata": {}
    },
    {
      "id": "03632232-60a3-46d7-8da2-50f75f98da62",
      "cell_type": "code",
      "source": "# Define two vectors\nv1 = np.array([2, 3])\nv2 = np.array([1, 4])\n\n# Stack the vectors as columns in a matrix\nA = np.column_stack([v1, v2])\n\n# Compute the rank\nrank = np.linalg.matrix_rank(A)\n\nprint(\"Matrix:\\n\", A)\nprint(\"Rank:\", rank)\n\nif rank == 2:\n    print(\"The vectors are linearly independent.\")\nelse:\n    print(\"The vectors are linearly dependent.\")",
      "metadata": {
        "trusted": true
      },
      "outputs": [
        {
          "name": "stdout",
          "output_type": "stream",
          "text": "Matrix:\n [[2 1]\n [3 4]]\nRank: 2\nThe vectors are linearly independent.\n"
        }
      ],
      "execution_count": 2
    },
    {
      "id": "089a3313-f164-46f1-bdfd-6d151dd6513e",
      "cell_type": "markdown",
      "source": "## Example 3: Spanning a Vector\n\nSuppose you want to represent the vector $ \\mathbf{v} = [5, 7] $ as a combination of the basis vectors $v_1 = [2, 3]$ and $v_2 = [1, 4]$:\n\nSolve for scalars $a$ and $b$ such that:\n$$\na \\cdot v_1 + b \\cdot v_2 = v\n$$",
      "metadata": {}
    },
    {
      "id": "f357b74e-bf64-47b2-9841-cba8d2a44c21",
      "cell_type": "code",
      "source": "v = np.array([5, 7])\nV = np.column_stack([v1, v2])\n\n# Solve V * [a, b] = v\ncoefficients = np.linalg.solve(V, v)\nprint(\"Coefficients:\", coefficients)\nprint(f\"{coefficients[0]} * v1 + {coefficients[1]} * v2 = {v}\")",
      "metadata": {
        "trusted": true
      },
      "outputs": [
        {
          "name": "stdout",
          "output_type": "stream",
          "text": "Coefficients: [ 2.6 -0.2]\n2.6000000000000005 * v1 + -0.20000000000000037 * v2 = [5 7]\n"
        }
      ],
      "execution_count": 3
    },
    {
      "id": "4fefc865-513d-4079-ac2b-708839f1118c",
      "cell_type": "markdown",
      "source": "## Example 4: Basis in Higher Dimensions\n\nFor $\\mathbb{R}^3$:",
      "metadata": {}
    },
    {
      "id": "40e142e2-0dbb-4cf4-a649-c195edf0ac5a",
      "cell_type": "code",
      "source": "e1 = np.array([1, 0, 0])\ne2 = np.array([0, 1, 0])\ne3 = np.array([0, 0, 1])\n\nbasis = [e1, e2, e3]\nprint(\"Standard basis for R^3:\")\nfor v in basis:\n    print(v)",
      "metadata": {
        "trusted": true
      },
      "outputs": [
        {
          "name": "stdout",
          "output_type": "stream",
          "text": "Standard basis for R^3:\n[1 0 0]\n[0 1 0]\n[0 0 1]\n"
        }
      ],
      "execution_count": 4
    },
    {
      "id": "a9a5a062-d2a8-43e8-a3fd-e5a006c0b388",
      "cell_type": "markdown",
      "source": "## Practice\n\n- Try defining your own set of vectors in $\\mathbb{R}^2$ or $\\mathbb{R}^3$.\n- Check if your set forms a basis by:\n  1. Verifying linear independence (`np.linalg.matrix_rank`)\n  2. Ensuring the set can span the space\n\n---\n\n## Summary\n\n- A **basis** is a set of linearly independent vectors that span a vector space.\n- In Python, use NumPy to check independence and solve linear combinations.\n- Understanding basis is fundamental for more advanced topics in linear algebra.\n\n**Happy coding!**",
      "metadata": {}
    },
    {
      "id": "7d11427b-3622-4a9e-b9e7-69dbe4fa04f6",
      "cell_type": "markdown",
      "source": "# [Linear Algebra Context](./README.md)",
      "metadata": {}
    }
  ]
}